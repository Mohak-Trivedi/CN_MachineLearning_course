{
 "cells": [
  {
   "cell_type": "code",
   "execution_count": 1,
   "metadata": {},
   "outputs": [],
   "source": [
    "from pandas import read_csv\n",
    "import numpy as np"
   ]
  },
  {
   "cell_type": "code",
   "execution_count": 2,
   "metadata": {},
   "outputs": [
    {
     "data": {
      "text/html": [
       "<div>\n",
       "<style scoped>\n",
       "    .dataframe tbody tr th:only-of-type {\n",
       "        vertical-align: middle;\n",
       "    }\n",
       "\n",
       "    .dataframe tbody tr th {\n",
       "        vertical-align: top;\n",
       "    }\n",
       "\n",
       "    .dataframe thead th {\n",
       "        text-align: right;\n",
       "    }\n",
       "</style>\n",
       "<table border=\"1\" class=\"dataframe\">\n",
       "  <thead>\n",
       "    <tr style=\"text-align: right;\">\n",
       "      <th></th>\n",
       "      <th>Month</th>\n",
       "      <th>International airline passengers: monthly totals in thousands. Jan 49 ? Dec 60</th>\n",
       "    </tr>\n",
       "  </thead>\n",
       "  <tbody>\n",
       "    <tr>\n",
       "      <th>0</th>\n",
       "      <td>1949-01</td>\n",
       "      <td>112</td>\n",
       "    </tr>\n",
       "    <tr>\n",
       "      <th>1</th>\n",
       "      <td>1949-02</td>\n",
       "      <td>118</td>\n",
       "    </tr>\n",
       "    <tr>\n",
       "      <th>2</th>\n",
       "      <td>1949-03</td>\n",
       "      <td>132</td>\n",
       "    </tr>\n",
       "    <tr>\n",
       "      <th>3</th>\n",
       "      <td>1949-04</td>\n",
       "      <td>129</td>\n",
       "    </tr>\n",
       "    <tr>\n",
       "      <th>4</th>\n",
       "      <td>1949-05</td>\n",
       "      <td>121</td>\n",
       "    </tr>\n",
       "    <tr>\n",
       "      <th>...</th>\n",
       "      <td>...</td>\n",
       "      <td>...</td>\n",
       "    </tr>\n",
       "    <tr>\n",
       "      <th>139</th>\n",
       "      <td>1960-08</td>\n",
       "      <td>606</td>\n",
       "    </tr>\n",
       "    <tr>\n",
       "      <th>140</th>\n",
       "      <td>1960-09</td>\n",
       "      <td>508</td>\n",
       "    </tr>\n",
       "    <tr>\n",
       "      <th>141</th>\n",
       "      <td>1960-10</td>\n",
       "      <td>461</td>\n",
       "    </tr>\n",
       "    <tr>\n",
       "      <th>142</th>\n",
       "      <td>1960-11</td>\n",
       "      <td>390</td>\n",
       "    </tr>\n",
       "    <tr>\n",
       "      <th>143</th>\n",
       "      <td>1960-12</td>\n",
       "      <td>432</td>\n",
       "    </tr>\n",
       "  </tbody>\n",
       "</table>\n",
       "<p>144 rows × 2 columns</p>\n",
       "</div>"
      ],
      "text/plain": [
       "       Month  \\\n",
       "0    1949-01   \n",
       "1    1949-02   \n",
       "2    1949-03   \n",
       "3    1949-04   \n",
       "4    1949-05   \n",
       "..       ...   \n",
       "139  1960-08   \n",
       "140  1960-09   \n",
       "141  1960-10   \n",
       "142  1960-11   \n",
       "143  1960-12   \n",
       "\n",
       "     International airline passengers: monthly totals in thousands. Jan 49 ? Dec 60  \n",
       "0                                                  112                               \n",
       "1                                                  118                               \n",
       "2                                                  132                               \n",
       "3                                                  129                               \n",
       "4                                                  121                               \n",
       "..                                                 ...                               \n",
       "139                                                606                               \n",
       "140                                                508                               \n",
       "141                                                461                               \n",
       "142                                                390                               \n",
       "143                                                432                               \n",
       "\n",
       "[144 rows x 2 columns]"
      ]
     },
     "execution_count": 2,
     "metadata": {},
     "output_type": "execute_result"
    }
   ],
   "source": [
    "read_csv('international-airline-passengers.csv')"
   ]
  },
  {
   "cell_type": "code",
   "execution_count": 3,
   "metadata": {},
   "outputs": [
    {
     "data": {
      "text/html": [
       "<div>\n",
       "<style scoped>\n",
       "    .dataframe tbody tr th:only-of-type {\n",
       "        vertical-align: middle;\n",
       "    }\n",
       "\n",
       "    .dataframe tbody tr th {\n",
       "        vertical-align: top;\n",
       "    }\n",
       "\n",
       "    .dataframe thead th {\n",
       "        text-align: right;\n",
       "    }\n",
       "</style>\n",
       "<table border=\"1\" class=\"dataframe\">\n",
       "  <thead>\n",
       "    <tr style=\"text-align: right;\">\n",
       "      <th></th>\n",
       "      <th>International airline passengers: monthly totals in thousands. Jan 49 ? Dec 60</th>\n",
       "    </tr>\n",
       "  </thead>\n",
       "  <tbody>\n",
       "    <tr>\n",
       "      <th>0</th>\n",
       "      <td>112</td>\n",
       "    </tr>\n",
       "    <tr>\n",
       "      <th>1</th>\n",
       "      <td>118</td>\n",
       "    </tr>\n",
       "    <tr>\n",
       "      <th>2</th>\n",
       "      <td>132</td>\n",
       "    </tr>\n",
       "    <tr>\n",
       "      <th>3</th>\n",
       "      <td>129</td>\n",
       "    </tr>\n",
       "    <tr>\n",
       "      <th>4</th>\n",
       "      <td>121</td>\n",
       "    </tr>\n",
       "    <tr>\n",
       "      <th>...</th>\n",
       "      <td>...</td>\n",
       "    </tr>\n",
       "    <tr>\n",
       "      <th>139</th>\n",
       "      <td>606</td>\n",
       "    </tr>\n",
       "    <tr>\n",
       "      <th>140</th>\n",
       "      <td>508</td>\n",
       "    </tr>\n",
       "    <tr>\n",
       "      <th>141</th>\n",
       "      <td>461</td>\n",
       "    </tr>\n",
       "    <tr>\n",
       "      <th>142</th>\n",
       "      <td>390</td>\n",
       "    </tr>\n",
       "    <tr>\n",
       "      <th>143</th>\n",
       "      <td>432</td>\n",
       "    </tr>\n",
       "  </tbody>\n",
       "</table>\n",
       "<p>144 rows × 1 columns</p>\n",
       "</div>"
      ],
      "text/plain": [
       "     International airline passengers: monthly totals in thousands. Jan 49 ? Dec 60\n",
       "0                                                  112                             \n",
       "1                                                  118                             \n",
       "2                                                  132                             \n",
       "3                                                  129                             \n",
       "4                                                  121                             \n",
       "..                                                 ...                             \n",
       "139                                                606                             \n",
       "140                                                508                             \n",
       "141                                                461                             \n",
       "142                                                390                             \n",
       "143                                                432                             \n",
       "\n",
       "[144 rows x 1 columns]"
      ]
     },
     "execution_count": 3,
     "metadata": {},
     "output_type": "execute_result"
    }
   ],
   "source": [
    "#We don't really need the month column, we just care about each 12 months' passenger_no and followed by the output i.e. the \n",
    "#corresponding 13th month's passenger_no\n",
    "read_csv('international-airline-passengers.csv', usecols = [1])"
   ]
  },
  {
   "cell_type": "code",
   "execution_count": 4,
   "metadata": {},
   "outputs": [],
   "source": [
    "df = read_csv('international-airline-passengers.csv', usecols = [1])"
   ]
  },
  {
   "cell_type": "code",
   "execution_count": 5,
   "metadata": {},
   "outputs": [
    {
     "data": {
      "text/html": [
       "<div>\n",
       "<style scoped>\n",
       "    .dataframe tbody tr th:only-of-type {\n",
       "        vertical-align: middle;\n",
       "    }\n",
       "\n",
       "    .dataframe tbody tr th {\n",
       "        vertical-align: top;\n",
       "    }\n",
       "\n",
       "    .dataframe thead th {\n",
       "        text-align: right;\n",
       "    }\n",
       "</style>\n",
       "<table border=\"1\" class=\"dataframe\">\n",
       "  <thead>\n",
       "    <tr style=\"text-align: right;\">\n",
       "      <th></th>\n",
       "      <th>International airline passengers: monthly totals in thousands. Jan 49 ? Dec 60</th>\n",
       "    </tr>\n",
       "  </thead>\n",
       "  <tbody>\n",
       "    <tr>\n",
       "      <th>count</th>\n",
       "      <td>144.000000</td>\n",
       "    </tr>\n",
       "    <tr>\n",
       "      <th>mean</th>\n",
       "      <td>280.298611</td>\n",
       "    </tr>\n",
       "    <tr>\n",
       "      <th>std</th>\n",
       "      <td>119.966317</td>\n",
       "    </tr>\n",
       "    <tr>\n",
       "      <th>min</th>\n",
       "      <td>104.000000</td>\n",
       "    </tr>\n",
       "    <tr>\n",
       "      <th>25%</th>\n",
       "      <td>180.000000</td>\n",
       "    </tr>\n",
       "    <tr>\n",
       "      <th>50%</th>\n",
       "      <td>265.500000</td>\n",
       "    </tr>\n",
       "    <tr>\n",
       "      <th>75%</th>\n",
       "      <td>360.500000</td>\n",
       "    </tr>\n",
       "    <tr>\n",
       "      <th>max</th>\n",
       "      <td>622.000000</td>\n",
       "    </tr>\n",
       "  </tbody>\n",
       "</table>\n",
       "</div>"
      ],
      "text/plain": [
       "       International airline passengers: monthly totals in thousands. Jan 49 ? Dec 60\n",
       "count                                         144.000000                             \n",
       "mean                                          280.298611                             \n",
       "std                                           119.966317                             \n",
       "min                                           104.000000                             \n",
       "25%                                           180.000000                             \n",
       "50%                                           265.500000                             \n",
       "75%                                           360.500000                             \n",
       "max                                           622.000000                             "
      ]
     },
     "execution_count": 5,
     "metadata": {},
     "output_type": "execute_result"
    }
   ],
   "source": [
    "df.describe()"
   ]
  },
  {
   "cell_type": "code",
   "execution_count": 6,
   "metadata": {},
   "outputs": [],
   "source": [
    "values = df.values.astype('float32') #type-casting from int to float(not necessary, but I prefer it) and storing the values\n",
    "#in the dataset(no_of_passengers) in the variable value."
   ]
  },
  {
   "cell_type": "code",
   "execution_count": 7,
   "metadata": {},
   "outputs": [
    {
     "data": {
      "text/plain": [
       "(array([[112.],\n",
       "        [118.],\n",
       "        [132.],\n",
       "        [129.],\n",
       "        [121.],\n",
       "        [135.],\n",
       "        [148.],\n",
       "        [148.],\n",
       "        [136.],\n",
       "        [119.],\n",
       "        [104.],\n",
       "        [118.],\n",
       "        [115.],\n",
       "        [126.],\n",
       "        [141.],\n",
       "        [135.],\n",
       "        [125.],\n",
       "        [149.],\n",
       "        [170.],\n",
       "        [170.],\n",
       "        [158.],\n",
       "        [133.],\n",
       "        [114.],\n",
       "        [140.],\n",
       "        [145.],\n",
       "        [150.],\n",
       "        [178.],\n",
       "        [163.],\n",
       "        [172.],\n",
       "        [178.],\n",
       "        [199.],\n",
       "        [199.],\n",
       "        [184.],\n",
       "        [162.],\n",
       "        [146.],\n",
       "        [166.],\n",
       "        [171.],\n",
       "        [180.],\n",
       "        [193.],\n",
       "        [181.],\n",
       "        [183.],\n",
       "        [218.],\n",
       "        [230.],\n",
       "        [242.],\n",
       "        [209.],\n",
       "        [191.],\n",
       "        [172.],\n",
       "        [194.],\n",
       "        [196.],\n",
       "        [196.],\n",
       "        [236.],\n",
       "        [235.],\n",
       "        [229.],\n",
       "        [243.],\n",
       "        [264.],\n",
       "        [272.],\n",
       "        [237.],\n",
       "        [211.],\n",
       "        [180.],\n",
       "        [201.],\n",
       "        [204.],\n",
       "        [188.],\n",
       "        [235.],\n",
       "        [227.],\n",
       "        [234.],\n",
       "        [264.],\n",
       "        [302.],\n",
       "        [293.],\n",
       "        [259.],\n",
       "        [229.],\n",
       "        [203.],\n",
       "        [229.],\n",
       "        [242.],\n",
       "        [233.],\n",
       "        [267.],\n",
       "        [269.],\n",
       "        [270.],\n",
       "        [315.],\n",
       "        [364.],\n",
       "        [347.],\n",
       "        [312.],\n",
       "        [274.],\n",
       "        [237.],\n",
       "        [278.],\n",
       "        [284.],\n",
       "        [277.],\n",
       "        [317.],\n",
       "        [313.],\n",
       "        [318.],\n",
       "        [374.],\n",
       "        [413.],\n",
       "        [405.],\n",
       "        [355.],\n",
       "        [306.],\n",
       "        [271.],\n",
       "        [306.],\n",
       "        [315.],\n",
       "        [301.],\n",
       "        [356.],\n",
       "        [348.],\n",
       "        [355.],\n",
       "        [422.],\n",
       "        [465.],\n",
       "        [467.],\n",
       "        [404.],\n",
       "        [347.],\n",
       "        [305.],\n",
       "        [336.],\n",
       "        [340.],\n",
       "        [318.],\n",
       "        [362.],\n",
       "        [348.],\n",
       "        [363.],\n",
       "        [435.],\n",
       "        [491.],\n",
       "        [505.],\n",
       "        [404.],\n",
       "        [359.],\n",
       "        [310.],\n",
       "        [337.],\n",
       "        [360.],\n",
       "        [342.],\n",
       "        [406.],\n",
       "        [396.],\n",
       "        [420.],\n",
       "        [472.],\n",
       "        [548.],\n",
       "        [559.],\n",
       "        [463.],\n",
       "        [407.],\n",
       "        [362.],\n",
       "        [405.],\n",
       "        [417.],\n",
       "        [391.],\n",
       "        [419.],\n",
       "        [461.],\n",
       "        [472.],\n",
       "        [535.],\n",
       "        [622.],\n",
       "        [606.],\n",
       "        [508.],\n",
       "        [461.],\n",
       "        [390.],\n",
       "        [432.]], dtype=float32),\n",
       " (144, 1))"
      ]
     },
     "execution_count": 7,
     "metadata": {},
     "output_type": "execute_result"
    }
   ],
   "source": [
    "values, values.shape #it is an np array of 144X1 dimensions\n",
    "#Viewing to decide how to do splitting into train and test"
   ]
  },
  {
   "cell_type": "code",
   "execution_count": 8,
   "metadata": {},
   "outputs": [
    {
     "data": {
      "text/plain": [
       "96.48"
      ]
     },
     "execution_count": 8,
     "metadata": {},
     "output_type": "execute_result"
    }
   ],
   "source": [
    "#Split the data into train and test before going for feature scaling.\n",
    "train_size = (values.shape[0] * 0.67) #144*0.67\n",
    "train_size"
   ]
  },
  {
   "cell_type": "code",
   "execution_count": 9,
   "metadata": {},
   "outputs": [
    {
     "data": {
      "text/plain": [
       "96"
      ]
     },
     "execution_count": 9,
     "metadata": {},
     "output_type": "execute_result"
    }
   ],
   "source": [
    "#We can't have train_size as float!\n",
    "train_size = int((values.shape[0] * 0.67)) #int(144*0.67)\n",
    "train_size"
   ]
  },
  {
   "cell_type": "code",
   "execution_count": 10,
   "metadata": {},
   "outputs": [],
   "source": [
    "test_size = values.shape[0] - train_size "
   ]
  },
  {
   "cell_type": "code",
   "execution_count": 11,
   "metadata": {},
   "outputs": [
    {
     "data": {
      "text/plain": [
       "array([[112.],\n",
       "       [118.],\n",
       "       [132.],\n",
       "       [129.],\n",
       "       [121.],\n",
       "       [135.],\n",
       "       [148.],\n",
       "       [148.],\n",
       "       [136.],\n",
       "       [119.],\n",
       "       [104.],\n",
       "       [118.],\n",
       "       [115.],\n",
       "       [126.],\n",
       "       [141.],\n",
       "       [135.],\n",
       "       [125.],\n",
       "       [149.],\n",
       "       [170.],\n",
       "       [170.],\n",
       "       [158.],\n",
       "       [133.],\n",
       "       [114.],\n",
       "       [140.],\n",
       "       [145.],\n",
       "       [150.],\n",
       "       [178.],\n",
       "       [163.],\n",
       "       [172.],\n",
       "       [178.],\n",
       "       [199.],\n",
       "       [199.],\n",
       "       [184.],\n",
       "       [162.],\n",
       "       [146.],\n",
       "       [166.],\n",
       "       [171.],\n",
       "       [180.],\n",
       "       [193.],\n",
       "       [181.],\n",
       "       [183.],\n",
       "       [218.],\n",
       "       [230.],\n",
       "       [242.],\n",
       "       [209.],\n",
       "       [191.],\n",
       "       [172.],\n",
       "       [194.],\n",
       "       [196.],\n",
       "       [196.],\n",
       "       [236.],\n",
       "       [235.],\n",
       "       [229.],\n",
       "       [243.],\n",
       "       [264.],\n",
       "       [272.],\n",
       "       [237.],\n",
       "       [211.],\n",
       "       [180.],\n",
       "       [201.],\n",
       "       [204.],\n",
       "       [188.],\n",
       "       [235.],\n",
       "       [227.],\n",
       "       [234.],\n",
       "       [264.],\n",
       "       [302.],\n",
       "       [293.],\n",
       "       [259.],\n",
       "       [229.],\n",
       "       [203.],\n",
       "       [229.],\n",
       "       [242.],\n",
       "       [233.],\n",
       "       [267.],\n",
       "       [269.],\n",
       "       [270.],\n",
       "       [315.],\n",
       "       [364.],\n",
       "       [347.],\n",
       "       [312.],\n",
       "       [274.],\n",
       "       [237.],\n",
       "       [278.],\n",
       "       [284.],\n",
       "       [277.],\n",
       "       [317.],\n",
       "       [313.],\n",
       "       [318.],\n",
       "       [374.],\n",
       "       [413.],\n",
       "       [405.],\n",
       "       [355.],\n",
       "       [306.],\n",
       "       [271.],\n",
       "       [306.]], dtype=float32)"
      ]
     },
     "execution_count": 11,
     "metadata": {},
     "output_type": "execute_result"
    }
   ],
   "source": [
    "train = values[0:train_size] #We'll name it as train, not train_data bcoz this is not the final train_data, we have to \n",
    "#further transform it. Same, goes for test.\n",
    "train"
   ]
  },
  {
   "cell_type": "code",
   "execution_count": 12,
   "metadata": {},
   "outputs": [
    {
     "data": {
      "text/plain": [
       "array([[315.],\n",
       "       [301.],\n",
       "       [356.],\n",
       "       [348.],\n",
       "       [355.],\n",
       "       [422.],\n",
       "       [465.],\n",
       "       [467.],\n",
       "       [404.],\n",
       "       [347.],\n",
       "       [305.],\n",
       "       [336.],\n",
       "       [340.],\n",
       "       [318.],\n",
       "       [362.],\n",
       "       [348.],\n",
       "       [363.],\n",
       "       [435.],\n",
       "       [491.],\n",
       "       [505.],\n",
       "       [404.],\n",
       "       [359.],\n",
       "       [310.],\n",
       "       [337.],\n",
       "       [360.],\n",
       "       [342.],\n",
       "       [406.],\n",
       "       [396.],\n",
       "       [420.],\n",
       "       [472.],\n",
       "       [548.],\n",
       "       [559.],\n",
       "       [463.],\n",
       "       [407.],\n",
       "       [362.],\n",
       "       [405.],\n",
       "       [417.],\n",
       "       [391.],\n",
       "       [419.],\n",
       "       [461.],\n",
       "       [472.],\n",
       "       [535.],\n",
       "       [622.],\n",
       "       [606.],\n",
       "       [508.],\n",
       "       [461.],\n",
       "       [390.],\n",
       "       [432.]], dtype=float32)"
      ]
     },
     "execution_count": 12,
     "metadata": {},
     "output_type": "execute_result"
    }
   ],
   "source": [
    "test = values[train_size:]\n",
    "test"
   ]
  },
  {
   "cell_type": "code",
   "execution_count": 13,
   "metadata": {},
   "outputs": [],
   "source": [
    "#Now, we need to do scaling.\n",
    "from sklearn.preprocessing import MinMaxScaler\n",
    "scaler = MinMaxScaler(feature_range = [0, 1]) #we want the feature range between 0 and 1\n",
    "#Now, let's update the training values.\n",
    "train = scaler.fit_transform(train)\n",
    "test = scaler.fit_transform(test)"
   ]
  },
  {
   "cell_type": "code",
   "execution_count": 14,
   "metadata": {},
   "outputs": [],
   "source": [
    "#Now that we have our trainig and testing data scaled, let's write a function that will create the actual data for us, as \n",
    "#required by the RNN model as discussed in the notes.\n",
    "def create_dataset(data, k): #k is the window-size\n",
    "    dataX, dataY = [], [] #the X and Y we want, to create our dataset\n",
    "    for i in range(data.shape[0] - k): #if we have 100 datapoints and window-size=k, then we will have 100-k  datapoints in \n",
    "    #our new data-set format.\n",
    "        x = data[i : i+k, 0] #current window\n",
    "        y = data[i + k, 0] #y for current window\n",
    "        dataX.append(x)\n",
    "        dataY.append(y)\n",
    "    return np.array(dataX), np.array(dataY)"
   ]
  },
  {
   "cell_type": "code",
   "execution_count": 15,
   "metadata": {},
   "outputs": [
    {
     "data": {
      "text/plain": [
       "(array([[0.04361373, 0.        , 0.17133951, 0.1464175 , 0.16822433,\n",
       "         0.37694705, 0.51090336, 0.51713395, 0.3208723 , 0.1433022 ,\n",
       "         0.01246107, 0.1090343 ],\n",
       "        [0.        , 0.17133951, 0.1464175 , 0.16822433, 0.37694705,\n",
       "         0.51090336, 0.51713395, 0.3208723 , 0.1433022 , 0.01246107,\n",
       "         0.1090343 , 0.12149537],\n",
       "        [0.17133951, 0.1464175 , 0.16822433, 0.37694705, 0.51090336,\n",
       "         0.51713395, 0.3208723 , 0.1433022 , 0.01246107, 0.1090343 ,\n",
       "         0.12149537, 0.0529595 ],\n",
       "        [0.1464175 , 0.16822433, 0.37694705, 0.51090336, 0.51713395,\n",
       "         0.3208723 , 0.1433022 , 0.01246107, 0.1090343 , 0.12149537,\n",
       "         0.0529595 , 0.19003117],\n",
       "        [0.16822433, 0.37694705, 0.51090336, 0.51713395, 0.3208723 ,\n",
       "         0.1433022 , 0.01246107, 0.1090343 , 0.12149537, 0.0529595 ,\n",
       "         0.19003117, 0.1464175 ],\n",
       "        [0.37694705, 0.51090336, 0.51713395, 0.3208723 , 0.1433022 ,\n",
       "         0.01246107, 0.1090343 , 0.12149537, 0.0529595 , 0.19003117,\n",
       "         0.1464175 , 0.19314647],\n",
       "        [0.51090336, 0.51713395, 0.3208723 , 0.1433022 , 0.01246107,\n",
       "         0.1090343 , 0.12149537, 0.0529595 , 0.19003117, 0.1464175 ,\n",
       "         0.19314647, 0.41744542],\n",
       "        [0.51713395, 0.3208723 , 0.1433022 , 0.01246107, 0.1090343 ,\n",
       "         0.12149537, 0.0529595 , 0.19003117, 0.1464175 , 0.19314647,\n",
       "         0.41744542, 0.59190035],\n",
       "        [0.3208723 , 0.1433022 , 0.01246107, 0.1090343 , 0.12149537,\n",
       "         0.0529595 , 0.19003117, 0.1464175 , 0.19314647, 0.41744542,\n",
       "         0.59190035, 0.635514  ],\n",
       "        [0.1433022 , 0.01246107, 0.1090343 , 0.12149537, 0.0529595 ,\n",
       "         0.19003117, 0.1464175 , 0.19314647, 0.41744542, 0.59190035,\n",
       "         0.635514  , 0.3208723 ],\n",
       "        [0.01246107, 0.1090343 , 0.12149537, 0.0529595 , 0.19003117,\n",
       "         0.1464175 , 0.19314647, 0.41744542, 0.59190035, 0.635514  ,\n",
       "         0.3208723 , 0.1806854 ],\n",
       "        [0.1090343 , 0.12149537, 0.0529595 , 0.19003117, 0.1464175 ,\n",
       "         0.19314647, 0.41744542, 0.59190035, 0.635514  , 0.3208723 ,\n",
       "         0.1806854 , 0.02803737],\n",
       "        [0.12149537, 0.0529595 , 0.19003117, 0.1464175 , 0.19314647,\n",
       "         0.41744542, 0.59190035, 0.635514  , 0.3208723 , 0.1806854 ,\n",
       "         0.02803737, 0.11214948],\n",
       "        [0.0529595 , 0.19003117, 0.1464175 , 0.19314647, 0.41744542,\n",
       "         0.59190035, 0.635514  , 0.3208723 , 0.1806854 , 0.02803737,\n",
       "         0.11214948, 0.18380058],\n",
       "        [0.19003117, 0.1464175 , 0.19314647, 0.41744542, 0.59190035,\n",
       "         0.635514  , 0.3208723 , 0.1806854 , 0.02803737, 0.11214948,\n",
       "         0.18380058, 0.12772584],\n",
       "        [0.1464175 , 0.19314647, 0.41744542, 0.59190035, 0.635514  ,\n",
       "         0.3208723 , 0.1806854 , 0.02803737, 0.11214948, 0.18380058,\n",
       "         0.12772584, 0.32710278],\n",
       "        [0.19314647, 0.41744542, 0.59190035, 0.635514  , 0.3208723 ,\n",
       "         0.1806854 , 0.02803737, 0.11214948, 0.18380058, 0.12772584,\n",
       "         0.32710278, 0.29595017],\n",
       "        [0.41744542, 0.59190035, 0.635514  , 0.3208723 , 0.1806854 ,\n",
       "         0.02803737, 0.11214948, 0.18380058, 0.12772584, 0.32710278,\n",
       "         0.29595017, 0.37071645],\n",
       "        [0.59190035, 0.635514  , 0.3208723 , 0.1806854 , 0.02803737,\n",
       "         0.11214948, 0.18380058, 0.12772584, 0.32710278, 0.29595017,\n",
       "         0.37071645, 0.5327103 ],\n",
       "        [0.635514  , 0.3208723 , 0.1806854 , 0.02803737, 0.11214948,\n",
       "         0.18380058, 0.12772584, 0.32710278, 0.29595017, 0.37071645,\n",
       "         0.5327103 , 0.76947033],\n",
       "        [0.3208723 , 0.1806854 , 0.02803737, 0.11214948, 0.18380058,\n",
       "         0.12772584, 0.32710278, 0.29595017, 0.37071645, 0.5327103 ,\n",
       "         0.76947033, 0.80373836],\n",
       "        [0.1806854 , 0.02803737, 0.11214948, 0.18380058, 0.12772584,\n",
       "         0.32710278, 0.29595017, 0.37071645, 0.5327103 , 0.76947033,\n",
       "         0.80373836, 0.5046729 ],\n",
       "        [0.02803737, 0.11214948, 0.18380058, 0.12772584, 0.32710278,\n",
       "         0.29595017, 0.37071645, 0.5327103 , 0.76947033, 0.80373836,\n",
       "         0.5046729 , 0.33021808],\n",
       "        [0.11214948, 0.18380058, 0.12772584, 0.32710278, 0.29595017,\n",
       "         0.37071645, 0.5327103 , 0.76947033, 0.80373836, 0.5046729 ,\n",
       "         0.33021808, 0.19003117],\n",
       "        [0.18380058, 0.12772584, 0.32710278, 0.29595017, 0.37071645,\n",
       "         0.5327103 , 0.76947033, 0.80373836, 0.5046729 , 0.33021808,\n",
       "         0.19003117, 0.32398748],\n",
       "        [0.12772584, 0.32710278, 0.29595017, 0.37071645, 0.5327103 ,\n",
       "         0.76947033, 0.80373836, 0.5046729 , 0.33021808, 0.19003117,\n",
       "         0.32398748, 0.36137068],\n",
       "        [0.32710278, 0.29595017, 0.37071645, 0.5327103 , 0.76947033,\n",
       "         0.80373836, 0.5046729 , 0.33021808, 0.19003117, 0.32398748,\n",
       "         0.36137068, 0.2803738 ],\n",
       "        [0.29595017, 0.37071645, 0.5327103 , 0.76947033, 0.80373836,\n",
       "         0.5046729 , 0.33021808, 0.19003117, 0.32398748, 0.36137068,\n",
       "         0.2803738 , 0.36760128],\n",
       "        [0.37071645, 0.5327103 , 0.76947033, 0.80373836, 0.5046729 ,\n",
       "         0.33021808, 0.19003117, 0.32398748, 0.36137068, 0.2803738 ,\n",
       "         0.36760128, 0.4984424 ],\n",
       "        [0.5327103 , 0.76947033, 0.80373836, 0.5046729 , 0.33021808,\n",
       "         0.19003117, 0.32398748, 0.36137068, 0.2803738 , 0.36760128,\n",
       "         0.4984424 , 0.5327103 ],\n",
       "        [0.76947033, 0.80373836, 0.5046729 , 0.33021808, 0.19003117,\n",
       "         0.32398748, 0.36137068, 0.2803738 , 0.36760128, 0.4984424 ,\n",
       "         0.5327103 , 0.72897196],\n",
       "        [0.80373836, 0.5046729 , 0.33021808, 0.19003117, 0.32398748,\n",
       "         0.36137068, 0.2803738 , 0.36760128, 0.4984424 , 0.5327103 ,\n",
       "         0.72897196, 1.        ],\n",
       "        [0.5046729 , 0.33021808, 0.19003117, 0.32398748, 0.36137068,\n",
       "         0.2803738 , 0.36760128, 0.4984424 , 0.5327103 , 0.72897196,\n",
       "         1.        , 0.95015574],\n",
       "        [0.33021808, 0.19003117, 0.32398748, 0.36137068, 0.2803738 ,\n",
       "         0.36760128, 0.4984424 , 0.5327103 , 0.72897196, 1.        ,\n",
       "         0.95015574, 0.6448598 ],\n",
       "        [0.19003117, 0.32398748, 0.36137068, 0.2803738 , 0.36760128,\n",
       "         0.4984424 , 0.5327103 , 0.72897196, 1.        , 0.95015574,\n",
       "         0.6448598 , 0.4984424 ],\n",
       "        [0.32398748, 0.36137068, 0.2803738 , 0.36760128, 0.4984424 ,\n",
       "         0.5327103 , 0.72897196, 1.        , 0.95015574, 0.6448598 ,\n",
       "         0.4984424 , 0.27725852]], dtype=float32),\n",
       " array([0.12149537, 0.0529595 , 0.19003117, 0.1464175 , 0.19314647,\n",
       "        0.41744542, 0.59190035, 0.635514  , 0.3208723 , 0.1806854 ,\n",
       "        0.02803737, 0.11214948, 0.18380058, 0.12772584, 0.32710278,\n",
       "        0.29595017, 0.37071645, 0.5327103 , 0.76947033, 0.80373836,\n",
       "        0.5046729 , 0.33021808, 0.19003117, 0.32398748, 0.36137068,\n",
       "        0.2803738 , 0.36760128, 0.4984424 , 0.5327103 , 0.72897196,\n",
       "        1.        , 0.95015574, 0.6448598 , 0.4984424 , 0.27725852,\n",
       "        0.40809965], dtype=float32))"
      ]
     },
     "execution_count": 15,
     "metadata": {},
     "output_type": "execute_result"
    }
   ],
   "source": [
    "#Now let's see if we're able to get the required format of data if we feed create_dataset() data of another format.\n",
    "#Let's try with test data as it's smaller than training data.\n",
    "create_dataset(test, 12)\n",
    "#Why are we geting few values >1 even though we decided the feature range to be 0 to 1? Because, we had fit the scaler using\n",
    "#training data, and this is testing data.\n",
    "#So, we are getting the required format of dataset."
   ]
  },
  {
   "cell_type": "code",
   "execution_count": 16,
   "metadata": {},
   "outputs": [],
   "source": [
    "lookback = 12 #window-size\n",
    "trainX, trainY = create_dataset(train, lookback)\n",
    "testX, testY = create_dataset(test, lookback)"
   ]
  },
  {
   "cell_type": "code",
   "execution_count": 17,
   "metadata": {},
   "outputs": [
    {
     "data": {
      "text/plain": [
       "(84, 12)"
      ]
     },
     "execution_count": 17,
     "metadata": {},
     "output_type": "execute_result"
    }
   ],
   "source": [
    "#trainY and testY are in the required format.\n",
    "#But, trainX and testX are not present in the required format.\n",
    "trainX.shape\n",
    "#As you can see it's format is (no. of data points X length fo each data point), but we want : \n",
    "#(no. of data points X length fo each data point X no. of features in each time-frame)"
   ]
  },
  {
   "cell_type": "code",
   "execution_count": 18,
   "metadata": {},
   "outputs": [
    {
     "data": {
      "text/plain": [
       "(84, 12, 1)"
      ]
     },
     "execution_count": 18,
     "metadata": {},
     "output_type": "execute_result"
    }
   ],
   "source": [
    "trainX = np.reshape(trainX, (trainX.shape[0], trainX.shape[1], 1))\n",
    "testX = np.reshape(testX, (testX.shape[0], testX.shape[1], 1))\n",
    "trainX.shape"
   ]
  },
  {
   "cell_type": "code",
   "execution_count": 19,
   "metadata": {},
   "outputs": [],
   "source": [
    "#Our dataset is finally ready in the required format."
   ]
  },
  {
   "cell_type": "code",
   "execution_count": 20,
   "metadata": {},
   "outputs": [
    {
     "name": "stderr",
     "output_type": "stream",
     "text": [
      "Using TensorFlow backend.\n"
     ]
    }
   ],
   "source": [
    "from keras.models import Sequential\n",
    "from keras.layers import SimpleRNN, Dense"
   ]
  },
  {
   "cell_type": "code",
   "execution_count": 21,
   "metadata": {},
   "outputs": [
    {
     "name": "stdout",
     "output_type": "stream",
     "text": [
      "Epoch 1/10\n",
      "84/84 [==============================] - 2s 28ms/step - loss: 0.1059\n",
      "Epoch 2/10\n",
      "84/84 [==============================] - 1s 17ms/step - loss: 0.0349: 0s - loss:\n",
      "Epoch 3/10\n",
      "84/84 [==============================] - 1s 17ms/step - loss: 0.0213\n",
      "Epoch 4/10\n",
      "84/84 [==============================] - 1s 16ms/step - loss: 0.0173\n",
      "Epoch 5/10\n",
      "84/84 [==============================] - 1s 17ms/step - loss: 0.0152\n",
      "Epoch 6/10\n",
      "84/84 [==============================] - 2s 18ms/step - loss: 0.0137: 0s - \n",
      "Epoch 7/10\n",
      "84/84 [==============================] - 2s 22ms/step - loss: 0.0127: 0s - loss:\n",
      "Epoch 8/10\n",
      "84/84 [==============================] - 1s 16ms/step - loss: 0.0112\n",
      "Epoch 9/10\n",
      "84/84 [==============================] - 1s 15ms/step - loss: 0.0105\n",
      "Epoch 10/10\n",
      "84/84 [==============================] - 1s 16ms/step - loss: 0.0101: 0s - loss: 0.010\n"
     ]
    },
    {
     "data": {
      "text/plain": [
       "<keras.callbacks.callbacks.History at 0x1e7f2ccfc88>"
      ]
     },
     "execution_count": 21,
     "metadata": {},
     "output_type": "execute_result"
    }
   ],
   "source": [
    "model = Sequential() #model created Sequential model, check notes for diagram\n",
    "#Now, add layers (SimpleRNN layer) it requires the number of units as well as i/p shape(only in case of 1st layer)\n",
    "model.add(SimpleRNN(4, input_shape = (lookback, 1))) #window-size X no. of features\n",
    "model.add(Dense(1)) #adding Dense layer. In this e.g. we're taking only 1 unit in the Dense layer, the o/p unit\n",
    "model.compile(loss = 'mean_squared_error', optimizer = 'adam')\n",
    "model.fit(trainX, trainY, epochs = 10, batch_size = 1) #using 10 epoch for now to save time, can experiment with higher epochs."
   ]
  },
  {
   "cell_type": "code",
   "execution_count": 22,
   "metadata": {},
   "outputs": [],
   "source": [
    "#As you can see it's reducing the cost value with each epoch. This is because it uses backpropagation-through-time.\n",
    "#It simply means we're doing backpropagation, but here, as the o/p of each unit also depends on previous o/ps, thus, it \n",
    "#has to backpropagate through that as well."
   ]
  },
  {
   "cell_type": "code",
   "execution_count": 23,
   "metadata": {},
   "outputs": [
    {
     "data": {
      "text/plain": [
       "array([[0.2175124 ],\n",
       "       [0.08245803],\n",
       "       [0.34869185],\n",
       "       [0.17734334],\n",
       "       [0.28454122],\n",
       "       [0.3370127 ],\n",
       "       [0.55294716],\n",
       "       [0.6899221 ],\n",
       "       [0.42318633],\n",
       "       [0.5386425 ],\n",
       "       [0.04914066],\n",
       "       [0.321805  ],\n",
       "       [0.3210004 ],\n",
       "       [0.10317078],\n",
       "       [0.4586779 ],\n",
       "       [0.08228044],\n",
       "       [0.3817245 ],\n",
       "       [0.33598852],\n",
       "       [0.5637294 ],\n",
       "       [0.7417592 ],\n",
       "       [0.35110202],\n",
       "       [0.61282   ],\n",
       "       [0.05768859],\n",
       "       [0.35641298],\n",
       "       [0.31562477],\n",
       "       [0.21537723],\n",
       "       [0.56021917],\n",
       "       [0.2768569 ],\n",
       "       [0.548282  ],\n",
       "       [0.44412768],\n",
       "       [0.690182  ],\n",
       "       [0.71970856],\n",
       "       [0.63168216],\n",
       "       [0.6090263 ],\n",
       "       [0.2613449 ],\n",
       "       [0.4734573 ]], dtype=float32)"
      ]
     },
     "execution_count": 23,
     "metadata": {},
     "output_type": "execute_result"
    }
   ],
   "source": [
    "testPredict = model.predict(testX) #Predicting values by passing testX\n",
    "testPredict"
   ]
  },
  {
   "cell_type": "code",
   "execution_count": 24,
   "metadata": {},
   "outputs": [
    {
     "data": {
      "text/plain": [
       "((36,), (36,))"
      ]
     },
     "execution_count": 24,
     "metadata": {},
     "output_type": "execute_result"
    }
   ],
   "source": [
    "#These need not be 0 to 1, so let's unscale it.\n",
    "testPredict = scaler.inverse_transform(testPredict).ravel()#No need for 2d, we can have it in 1d, so use ravel()\n",
    "testPredict\n",
    "\n",
    "#Same goes for training data\n",
    "trainPredict = model.predict(trainX)\n",
    "trainPredict = scaler.inverse_transform(trainPredict).ravel()#No need for 2d, we can have it in 1d, so use ravel()\n",
    "trainPredict\n",
    "\n",
    "#The actual y values\n",
    "testTrue = scaler.inverse_transform([testY]).ravel()#When we scaled the  training and testing data, they were 2d, but now,\n",
    "#while unscaling they are present as 1d, so we need to make them 2d, thus I have mentioned [train], not just train\n",
    "trainTrue = scaler.inverse_transform([trainY]).ravel()\n",
    "\n",
    "testPredict.shape, testTrue.shape"
   ]
  },
  {
   "cell_type": "code",
   "execution_count": 28,
   "metadata": {},
   "outputs": [],
   "source": [
    "from matplotlib import pyplot as plt"
   ]
  },
  {
   "cell_type": "code",
   "execution_count": 29,
   "metadata": {},
   "outputs": [
    {
     "data": {
      "image/png": "[encoded data removed]",
      "text/plain": [
       "<Figure size 432x288 with 1 Axes>"
      ]
     },
     "metadata": {
      "needs_background": "light"
     },
     "output_type": "display_data"
    }
   ],
   "source": [
    "#We'll plot the predicted and actual value against each other in the same graph. actual->green plot, predicted->blue plot\n",
    "plt.plot(trainTrue, c = 'g') #trainTrue values as y and for x it will just use the indices\n",
    "plt.plot(trainPredict, c = 'b')\n",
    "plt.show()"
   ]
  },
  {
   "cell_type": "code",
   "execution_count": 33,
   "metadata": {},
   "outputs": [
    {
     "data": {
      "image/png": "[encoded data removed]",
      "text/plain": [
       "<Figure size 432x288 with 1 Axes>"
      ]
     },
     "metadata": {
      "needs_background": "light"
     },
     "output_type": "display_data"
    }
   ],
   "source": [
    "#Now let's combine both train and test\n",
    "combinedPredicted = np.concatenate((trainPredict, testPredict))\n",
    "combinedTrue = np.concatenate((testPredict, testTrue))\n",
    "plt.plot(combinedTrue, c = 'g') \n",
    "plt.plot(combinedPredicted, c = 'b')\n",
    "plt.show()"
   ]
  },
  {
   "cell_type": "code",
   "execution_count": 31,
   "metadata": {},
   "outputs": [],
   "source": [
    "#Seems like our model predicts well till 84, but after that it's going high where it is supposed to go high but not as high\n",
    "#as needed. It's following the correct pattern, but not the correct values."
   ]
  },
  {
   "cell_type": "code",
   "execution_count": 32,
   "metadata": {},
   "outputs": [],
   "source": [
    "#However, this was just SimpleRNN, we can try out different hyper-parameters. Also, we can learn LSTM which is much more \n",
    "#advanced and will improve our predictions."
   ]
  },
  {
   "cell_type": "code",
   "execution_count": null,
   "metadata": {},
   "outputs": [],
   "source": []
  }
 ],
 "metadata": {
  "kernelspec": {
   "display_name": "Python 3",
   "language": "python",
   "name": "python3"
  }
 },
 "nbformat": 4,
 "nbformat_minor": 4
}
