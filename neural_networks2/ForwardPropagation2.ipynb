{
 "cells": [
  {
   "cell_type": "code",
   "execution_count": 1,
   "metadata": {},
   "outputs": [],
   "source": [
    "#This will be exactly same as ForwardPropagation1, but, in this neural network we'll also have a hidden layer having 2 units\n",
    "# and a bias unit(1).\n",
    "#Thus, the no. of weights b/w i/p and hidden layer will be 3*2 = 6, and b/w hidden layer and o/p layer will be 3*1 = 3 "
   ]
  },
  {
   "cell_type": "code",
   "execution_count": 2,
   "metadata": {},
   "outputs": [],
   "source": [
    "#We'll reuse the same code from ForwardPropagation1, and we'll add more code to it to get the code for implementing our current\n",
    "#required neural network."
   ]
  },
  {
   "cell_type": "code",
   "execution_count": 3,
   "metadata": {},
   "outputs": [],
   "source": [
    "import numpy as np"
   ]
  },
  {
   "cell_type": "code",
   "execution_count": 4,
   "metadata": {},
   "outputs": [],
   "source": [
    "#AND dataset\n",
    "X = np.array([[0, 0], [0, 1], [1, 0], [1, 1]]) #X1 and X2\n",
    "Y = np.array([[0, 0, 0, 1]]).T #Y "
   ]
  },
  {
   "cell_type": "code",
   "execution_count": 5,
   "metadata": {},
   "outputs": [],
   "source": [
    "#sigmoid function for the single unit in the o/p unit\n",
    "def sig(z):\n",
    "    return 1/(1 + np.exp(-z))"
   ]
  },
  {
   "cell_type": "code",
   "execution_count": 6,
   "metadata": {},
   "outputs": [
    {
     "data": {
      "text/plain": [
       "(array([[0.80129752],\n",
       "        [0.03850659]]),\n",
       " array([0.63497771]))"
      ]
     },
     "execution_count": 6,
     "metadata": {},
     "output_type": "execute_result"
    }
   ],
   "source": [
    "#No hidden layer weights! (bcoz same code from ForwardPropagation1)\n",
    "weights = 2 * np.random.random((2, 1)) - 1\n",
    "bias = 2 * np.random.random(1) - 1\n",
    "weights, bias"
   ]
  },
  {
   "cell_type": "code",
   "execution_count": 7,
   "metadata": {},
   "outputs": [
    {
     "data": {
      "text/plain": [
       "array([[0.65361729],\n",
       "       [0.66228291],\n",
       "       [0.80787719],\n",
       "       [0.81378311]])"
      ]
     },
     "execution_count": 7,
     "metadata": {},
     "output_type": "execute_result"
    }
   ],
   "source": [
    "#Forward propagation w/o hidden layer (bcoz same code from ForwardPropagation1)\n",
    "output0 = X\n",
    "output = sig(np.dot(output0, weights) + bias)\n",
    "output"
   ]
  },
  {
   "cell_type": "code",
   "execution_count": 8,
   "metadata": {},
   "outputs": [],
   "source": [
    "#Now, we're done with copying the ForwardPropagation1 code.\n",
    "#Now's the time to get the hidden layer having a bias unit and 2 units implementing the sigmoid function\n",
    "#Also, we need to add some weights, as now, we have 3*2 = 6 weights for hidden layer(i.e. weights b/w i/p and hidden), and \n",
    "#we have 3*1 = 3 weights for o/p layer(i.e. weights b/w hidden and o/p)."
   ]
  },
  {
   "cell_type": "code",
   "execution_count": 9,
   "metadata": {},
   "outputs": [],
   "source": [
    "wh = 2 * np.random.random((2, 2)) - 1 #hidden layer weights (b/w i/p and hidden)\n",
    "bh = 2 * np.random.random((1, 2)) - 1 #hidden layer bias weights (b/w i/p and hidden)\n",
    "wo = 2 * np.random.random((2, 1)) - 1 #o/p layer weights (b/w hidden and o/p)\n",
    "bo = 2 * np.random.random((1, 1)) - 1 #o/p layer bias weights (b/w hidden and o/p)"
   ]
  },
  {
   "cell_type": "code",
   "execution_count": 10,
   "metadata": {},
   "outputs": [],
   "source": [
    "#Now, that we have initialized all the required weights, we can implement forward propagation for our current neural network!"
   ]
  },
  {
   "cell_type": "code",
   "execution_count": 11,
   "metadata": {},
   "outputs": [
    {
     "data": {
      "text/plain": [
       "array([[0.56770945],\n",
       "       [0.5432162 ],\n",
       "       [0.53872046],\n",
       "       [0.51375096]])"
      ]
     },
     "execution_count": 11,
     "metadata": {},
     "output_type": "execute_result"
    }
   ],
   "source": [
    "output0 = X \n",
    "outputHidden = sig(np.dot(output0, wh) + bh)\n",
    "output = sig(np.dot(outputHidden, wo) + bo)\n",
    "output"
   ]
  },
  {
   "cell_type": "code",
   "execution_count": 12,
   "metadata": {},
   "outputs": [],
   "source": [
    "#Thus, we have successfully implemented forward propagation for a neural network having a single hidden layer."
   ]
  },
  {
   "cell_type": "code",
   "execution_count": null,
   "metadata": {},
   "outputs": [],
   "source": []
  }
 ],
 "metadata": {
  "kernelspec": {
   "display_name": "Python 3",
   "language": "python",
   "name": "python3"
  },
  "language_info": {
   "codemirror_mode": {
    "name": "ipython",
    "version": 3
   },
   "file_extension": ".py",
   "mimetype": "text/x-python",
   "name": "python",
   "nbconvert_exporter": "python",
   "pygments_lexer": "ipython3",
   "version": "3.8.3"
  }
 },
 "nbformat": 4,
 "nbformat_minor": 4
}
