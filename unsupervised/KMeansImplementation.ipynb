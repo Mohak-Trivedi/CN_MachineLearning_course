{
 "cells": [
  {
   "cell_type": "code",
   "execution_count": 2,
   "metadata": {},
   "outputs": [],
   "source": [
    "import numpy as np\n",
    "import matplotlib.pyplot as plt"
   ]
  },
  {
   "cell_type": "code",
   "execution_count": 3,
   "metadata": {},
   "outputs": [],
   "source": [
    "X = np.array([[1, 2], [1.5, 1.8], [5, 8], [8, 8], [1, 0.6], [9, 11]]) #using simple 2d array for ease of plotting, we can have\n",
    "#much complex data too."
   ]
  },
  {
   "cell_type": "code",
   "execution_count": 4,
   "metadata": {},
   "outputs": [
    {
     "data": {
      "image/png": "[encoded data removed]",
      "text/plain": [
       "<Figure size 432x288 with 1 Axes>"
      ]
     },
     "metadata": {
      "needs_background": "light"
     },
     "output_type": "display_data"
    }
   ],
   "source": [
    "plt.scatter(X[:,0], X[:,1])\n",
    "plt.show()"
   ]
  },
  {
   "cell_type": "code",
   "execution_count": 5,
   "metadata": {},
   "outputs": [],
   "source": [
    "# def fit(data, k = 2, max_iter = 100): #where, k -> number of clusters\n",
    "#     means = [] #list of means of all the clusters\n",
    "#     #randomly initialize the means\n",
    "#     for i in range(k):\n",
    "#         means.append(data[i])\n",
    "#     for i in range(max_iter):\n",
    "#         #assign the datapoints to the cluster that they belong to\n",
    "#         #create empty clusters\n",
    "#         clusters = []\n",
    "#         for j in range(k):\n",
    "#             clusters.append([])\n",
    "#         for datapoint in data: #remember that the datapoint is an np-array\n",
    "#             #find distance to all the mean values\n",
    "#             distances = [((datapoint - m)**2).sum() for m in means]\n",
    "#             #find the minimum distance\n",
    "#             minDistance = min(distances)\n",
    "#             #find the mean for which we got the minimum distance --> l\n",
    "#             l = distances.index(minDistance)\n",
    "#             #add this point to cluster l\n",
    "#             clusters[l].append(datapoint)\n",
    "            \n",
    "#         #calculate the new mean values\n",
    "#         for j in range(k):\n",
    "#             new_mean = np.average(clusters[j])\n",
    "#             means[j] = new_mean\n",
    "    \n",
    "#     return means"
   ]
  },
  {
   "cell_type": "code",
   "execution_count": 6,
   "metadata": {},
   "outputs": [],
   "source": [
    "# fit(X)"
   ]
  },
  {
   "cell_type": "code",
   "execution_count": 7,
   "metadata": {},
   "outputs": [],
   "source": [
    "#There's a problem here, as we have k=2, we should get 2 mean values, one for each cluster, and in the form of \n",
    "#[[[xcoordinate_mean_of_cluster0],[ycoordinate_mean_of_cluster0]], \n",
    "#[[xcoordinate_mean_of_cluster1],[ycoordinate_mean_of_cluster1]]]\n",
    "#But, instead we're getting [[mean_of_cluster0], [mean_of_cluster1]]\n",
    "#Thus, we need to mention axis = 0 while computing new_mean."
   ]
  },
  {
   "cell_type": "code",
   "execution_count": 13,
   "metadata": {},
   "outputs": [],
   "source": [
    "# def fit(data, k = 2, max_iter = 100): #where, k -> number of clusters\n",
    "#     means = [] #list of means of all the clusters\n",
    "#     #randomly initialize the means\n",
    "#     for i in range(k):\n",
    "#         means.append(data[i])\n",
    "#     for i in range(max_iter):\n",
    "#         #assign the datapoints to the cluster that they belong to\n",
    "#         #create empty clusters\n",
    "#         clusters = []\n",
    "#         for j in range(k):\n",
    "#             clusters.append([])\n",
    "#         for datapoint in data: #remember that the datapoint is an np-array\n",
    "#             #find distance to all the mean values\n",
    "#             distances = [((datapoint - m)**2).sum() for m in means]\n",
    "#             #find the minimum distance\n",
    "#             minDistance = min(distances)\n",
    "#             #find the mean for which we got the minimum distance --> l\n",
    "#             l = distances.index(minDistance)\n",
    "#             #add this point to cluster l\n",
    "#             clusters[l].append(datapoint)\n",
    "            \n",
    "#         #calculate the new mean values\n",
    "#         change = False #if there's no change in mean, then we must not iterate further\n",
    "#         for j in range(k):\n",
    "#             new_mean = np.average(clusters[j], axis = 0)\n",
    "#             if not np.array_equal(means[j], new_mean):\n",
    "#                 change = True\n",
    "#             means[j] = new_mean\n",
    "#         if not change:\n",
    "#             break\n",
    "    \n",
    "#     return means"
   ]
  },
  {
   "cell_type": "code",
   "execution_count": 14,
   "metadata": {},
   "outputs": [],
   "source": [
    "# def predict(test_data, means): #determines in which cluster which data point will go.\n",
    "#     predictions = []\n",
    "#     for datapoint in test_data:\n",
    "#         #find distance to all the mean values\n",
    "#         distances = [((datapoint - m)**2).sum() for m in means]\n",
    "#         #find the minimum distance\n",
    "#         minDistance = min(distances)\n",
    "#         #find the mean for which we got the minimum distance --> l\n",
    "#         l = distances.index(minDistance)\n",
    "#         #add this point to cluster l\n",
    "#         predictions.append(l)\n",
    "#     return predictions"
   ]
  },
  {
   "cell_type": "code",
   "execution_count": 15,
   "metadata": {},
   "outputs": [],
   "source": [
    "means = fit(X)"
   ]
  },
  {
   "cell_type": "code",
   "execution_count": 16,
   "metadata": {},
   "outputs": [
    {
     "data": {
      "text/plain": [
       "[0, 0, 1, 1, 0, 1]"
      ]
     },
     "execution_count": 16,
     "metadata": {},
     "output_type": "execute_result"
    }
   ],
   "source": [
    " predict(X, means)"
   ]
  },
  {
   "cell_type": "code",
   "execution_count": 17,
   "metadata": {},
   "outputs": [],
   "source": [
    "#We are getting the exact results that we got while we were using SKlearn's KMeans algorithm.  "
   ]
  },
  {
   "cell_type": "code",
   "execution_count": 18,
   "metadata": {},
   "outputs": [],
   "source": [
    "#Now we would like to create a class of our KMeans algorithm so that we can use it whenever we want just by creating its\n",
    "#object.\n",
    "#We will copy paste the predict() and fit(), and just make a few modifications in them by including the 'self'."
   ]
  },
  {
   "cell_type": "code",
   "execution_count": 19,
   "metadata": {},
   "outputs": [],
   "source": [
    "# class K_Means: #Not naming KMeans in order to avoid confusion with sklearn's KMeans\n",
    "#     def __init__(self): #this is our constructor\n",
    "#         print(\"constructor\")\n",
    "#     #Now copy paste fit() and predict(), and add self argument\n",
    "#     def fit(self, data, k = 2, max_iter = 100): #where, k -> number of clusters\n",
    "#         means = [] #list of means of all the clusters\n",
    "#         #randomly initialize the means\n",
    "#         for i in range(k):\n",
    "#             means.append(data[i])\n",
    "#         for i in range(max_iter):\n",
    "#             #assign the datapoints to the cluster that they belong to\n",
    "#             #create empty clusters\n",
    "#             clusters = []\n",
    "#             for j in range(k):\n",
    "#                 clusters.append([])\n",
    "#             for datapoint in data: #remember that the datapoint is an np-array\n",
    "#                 #find distance to all the mean values\n",
    "#                 distances = [((datapoint - m)**2).sum() for m in means]\n",
    "#                 #find the minimum distance\n",
    "#                 minDistance = min(distances)\n",
    "#                 #find the mean for which we got the minimum distance --> l\n",
    "#                 l = distances.index(minDistance)\n",
    "#                 #add this point to cluster l\n",
    "#                 clusters[l].append(datapoint)\n",
    "\n",
    "#             #calculate the new mean values\n",
    "#             change = False #if there's no change in mean, then we must not iterate further\n",
    "#             for j in range(k):\n",
    "#                 new_mean = np.average(clusters[j], axis = 0)\n",
    "#                 if not np.array_equal(means[j], new_mean):\n",
    "#                     change = True\n",
    "#                 means[j] = new_mean\n",
    "#             if not change:\n",
    "#                 break\n",
    "\n",
    "#         return means\n",
    "    \n",
    "#     def predict(self, test_data, means): #determines in which cluster which data point will go.\n",
    "#         predictions = []\n",
    "#         for datapoint in test_data:\n",
    "#             #find distance to all the mean values\n",
    "#             distances = [((datapoint - m)**2).sum() for m in means]\n",
    "#             #find the minimum distance\n",
    "#             minDistance = min(distances)\n",
    "#             #find the mean for which we got the minimum distance --> l\n",
    "#             l = distances.index(minDistance)\n",
    "#             #add this point to cluster l\n",
    "#             predictions.append(l)\n",
    "#         return predictions"
   ]
  },
  {
   "cell_type": "code",
   "execution_count": 20,
   "metadata": {},
   "outputs": [
    {
     "name": "stdout",
     "output_type": "stream",
     "text": [
      "constructor\n"
     ]
    }
   ],
   "source": [
    "# kmeans = K_Means() #creating an object of K_Means class"
   ]
  },
  {
   "cell_type": "code",
   "execution_count": 22,
   "metadata": {},
   "outputs": [],
   "source": [
    "# means = kmeans.fit(X)"
   ]
  },
  {
   "cell_type": "code",
   "execution_count": 23,
   "metadata": {},
   "outputs": [
    {
     "data": {
      "text/plain": [
       "[0, 0, 1, 1, 0, 1]"
      ]
     },
     "execution_count": 23,
     "metadata": {},
     "output_type": "execute_result"
    }
   ],
   "source": [
    "# kmeans.predict(X, means)"
   ]
  },
  {
   "cell_type": "code",
   "execution_count": 24,
   "metadata": {},
   "outputs": [],
   "source": [
    "#As you can see we are getting correct results.\n",
    "#But, we can make our code better. Right now we have just clubbed the functions into the class, but they're not communicating\n",
    "#with each other.\n",
    "#We must not need to pass the 'means' to the predict(), it should take it from the object itself. Also, we must be able to \n",
    "#mention the number of clusters and max iterations during the time of creating the object only.\n",
    "#So, let's make those changes in our class code"
   ]
  },
  {
   "cell_type": "code",
   "execution_count": 25,
   "metadata": {},
   "outputs": [],
   "source": [
    "class K_Means: #Not naming KMeans in order to avoid confusion with sklearn's KMeans\n",
    "    def __init__(self, k = 2, max_iter = 100): #this is our constructor\n",
    "        print(\"constructor\")\n",
    "        self.k = k\n",
    "        self.max_iter = max_iter\n",
    "    \n",
    "    #Now copy paste fit() and predict(), and add self argument\n",
    "    def fit(self, data): #where, k -> number of clusters\n",
    "        self.means = [] #list of means of all the clusters\n",
    "        #randomly initialize the means\n",
    "        for i in range(self.k):\n",
    "            self.means.append(data[i])\n",
    "        for i in range(self.max_iter):\n",
    "            #assign the datapoints to the cluster that they belong to\n",
    "            #create empty clusters\n",
    "            clusters = []\n",
    "            for j in range(self.k):\n",
    "                clusters.append([])\n",
    "            for datapoint in data: #remember that the datapoint is an np-array\n",
    "                #find distance to all the mean values\n",
    "                distances = [((datapoint - m)**2).sum() for m in self.means]\n",
    "                #find the minimum distance\n",
    "                minDistance = min(distances)\n",
    "                #find the mean for which we got the minimum distance --> l\n",
    "                l = distances.index(minDistance)\n",
    "                #add this point to cluster l\n",
    "                clusters[l].append(datapoint)\n",
    "\n",
    "            #calculate the new mean values\n",
    "            change = False #if there's no change in mean, then we must not iterate further\n",
    "            for j in range(self.k):\n",
    "                new_mean = np.average(clusters[j], axis = 0)\n",
    "                if not np.array_equal(self.means[j], new_mean):\n",
    "                    change = True\n",
    "                self.means[j] = new_mean\n",
    "            if not change:\n",
    "                break\n",
    "    \n",
    "    def predict(self, test_data): #determines in which cluster which data point will go.\n",
    "        predictions = []\n",
    "        for datapoint in test_data:\n",
    "            #find distance to all the mean values\n",
    "            distances = [((datapoint - m)**2).sum() for m in self.means]\n",
    "            #find the minimum distance\n",
    "            minDistance = min(distances)\n",
    "            #find the mean for which we got the minimum distance --> l\n",
    "            l = distances.index(minDistance)\n",
    "            #add this point to cluster l\n",
    "            predictions.append(l)\n",
    "        return predictions"
   ]
  },
  {
   "cell_type": "code",
   "execution_count": 30,
   "metadata": {},
   "outputs": [
    {
     "name": "stdout",
     "output_type": "stream",
     "text": [
      "constructor\n"
     ]
    }
   ],
   "source": [
    "kmeans = K_Means(2, 10) #creating an object of K_Means class"
   ]
  },
  {
   "cell_type": "code",
   "execution_count": 31,
   "metadata": {},
   "outputs": [],
   "source": [
    "kmeans.fit(X)"
   ]
  },
  {
   "cell_type": "code",
   "execution_count": 32,
   "metadata": {},
   "outputs": [
    {
     "data": {
      "text/plain": [
       "[0, 0, 1, 1, 0, 1]"
      ]
     },
     "execution_count": 32,
     "metadata": {},
     "output_type": "execute_result"
    }
   ],
   "source": [
    "kmeans.predict(X)"
   ]
  },
  {
   "cell_type": "code",
   "execution_count": 33,
   "metadata": {},
   "outputs": [],
   "source": [
    "#We're still getting the same correct results and our code too has been improved."
   ]
  },
  {
   "cell_type": "code",
   "execution_count": null,
   "metadata": {},
   "outputs": [],
   "source": []
  }
 ],
 "metadata": {
  "kernelspec": {
   "display_name": "Python 3",
   "language": "python",
   "name": "python3"
  },
  "language_info": {
   "codemirror_mode": {
    "name": "ipython",
    "version": 3
   },
   "file_extension": ".py",
   "mimetype": "text/x-python",
   "name": "python",
   "nbconvert_exporter": "python",
   "pygments_lexer": "ipython3",
   "version": "3.8.3"
  }
 },
 "nbformat": 4,
 "nbformat_minor": 4
}
